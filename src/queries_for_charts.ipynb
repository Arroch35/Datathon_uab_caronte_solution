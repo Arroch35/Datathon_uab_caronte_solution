{
 "cells": [
  {
   "cell_type": "code",
   "execution_count": 30,
   "metadata": {},
   "outputs": [],
   "source": [
    "import pandas as pd\n",
    "from pandasql import sqldf"
   ]
  },
  {
   "cell_type": "code",
   "execution_count": 31,
   "metadata": {},
   "outputs": [],
   "source": [
    "users_df=pd.read_csv(\"../data/users_clean_vApplication.csv\")\n",
    "a = 408"
   ]
  },
  {
   "cell_type": "code",
   "execution_count": 32,
   "metadata": {},
   "outputs": [
    {
     "name": "stdout",
     "output_type": "stream",
     "text": [
      "                                             activitat  grade\n",
      "0                        Problema 1.1 - Hello world!!!    100\n",
      "1                     Problema 1.2 - Hello world!!! ++    100\n",
      "2                           Problema 3a.1: Càlcul edat    100\n",
      "3              Problema 3a.8: Conversió dòlars a euros    100\n",
      "4                     Problema 3a.11: Mitjana de notes    100\n",
      "..                                                 ...    ...\n",
      "115                       Problema 5d.7: Tipus Poligon    100\n",
      "116             Problema 5d.8: Classificació de futbol    100\n",
      "117  Entrega Practica 2: Rock, Paper, Scissors, Liz...    100\n",
      "118                 Entrega Practica 3 - 4: MasterMind    100\n",
      "119                      Entrega Pràctica 5: BlackJack    100\n",
      "\n",
      "[120 rows x 2 columns]\n"
     ]
    }
   ],
   "source": [
    "score_activities=f\"select activitat, grade from users_df where userid={a}\"\n",
    "print(sqldf(score_activities))"
   ]
  },
  {
   "cell_type": "code",
   "execution_count": 33,
   "metadata": {},
   "outputs": [
    {
     "name": "stdout",
     "output_type": "stream",
     "text": [
      "                                             activitat  nevaluations\n",
      "0                        Problema 1.1 - Hello world!!!             1\n",
      "1                     Problema 1.2 - Hello world!!! ++             3\n",
      "2                           Problema 3a.1: Càlcul edat             4\n",
      "3              Problema 3a.8: Conversió dòlars a euros             4\n",
      "4                     Problema 3a.11: Mitjana de notes             6\n",
      "..                                                 ...           ...\n",
      "115                       Problema 5d.7: Tipus Poligon             7\n",
      "116             Problema 5d.8: Classificació de futbol             3\n",
      "117  Entrega Practica 2: Rock, Paper, Scissors, Liz...             0\n",
      "118                 Entrega Practica 3 - 4: MasterMind             1\n",
      "119                      Entrega Pràctica 5: BlackJack             2\n",
      "\n",
      "[120 rows x 2 columns]\n"
     ]
    }
   ],
   "source": [
    "neval_activities=f\"select activitat, nevaluations from users_df where userid={a}\"\n",
    "print(sqldf(neval_activities))"
   ]
  },
  {
   "cell_type": "code",
   "execution_count": 34,
   "metadata": {},
   "outputs": [
    {
     "name": "stdout",
     "output_type": "stream",
     "text": [
      "   userid problema_number  avg_grade\n",
      "0     408            None      100.0\n",
      "1     408               1      100.0\n",
      "2     408               3      100.0\n",
      "3     408               4      100.0\n",
      "4     408               5      100.0\n"
     ]
    }
   ],
   "source": [
    "# Create DataFrame\n",
    "users_df\n",
    "\n",
    "# Step 1: Extract the number after \"Problema\" (e.g., 1.1)\n",
    "users_df['problema_number'] = users_df['activitat'].str.extract(r'Problema\\s+(\\d+)')\n",
    "\n",
    "# Step 3: Group by `userid`, `aula_id`, and `problema_number`, then calculate the mean of `F_Grade`\n",
    "result = users_df.groupby(['userid', 'problema_number'], as_index=False)['grade'].mean()\n",
    "\n",
    "\n",
    "print(sqldf(f\"select userid, problema_number, avg(grade) as avg_grade from users_df where userid={a} group by problema_number order by problema_number\"))"
   ]
  },
  {
   "cell_type": "code",
   "execution_count": 35,
   "metadata": {},
   "outputs": [
    {
     "data": {
      "text/plain": [
       "10600"
      ]
     },
     "execution_count": 35,
     "metadata": {},
     "output_type": "execute_result"
    }
   ],
   "source": [
    "users_df['problema_number'].isnull().sum()"
   ]
  }
 ],
 "metadata": {
  "kernelspec": {
   "display_name": "base",
   "language": "python",
   "name": "python3"
  },
  "language_info": {
   "codemirror_mode": {
    "name": "ipython",
    "version": 3
   },
   "file_extension": ".py",
   "mimetype": "text/x-python",
   "name": "python",
   "nbconvert_exporter": "python",
   "pygments_lexer": "ipython3",
   "version": "3.11.4"
  }
 },
 "nbformat": 4,
 "nbformat_minor": 2
}
