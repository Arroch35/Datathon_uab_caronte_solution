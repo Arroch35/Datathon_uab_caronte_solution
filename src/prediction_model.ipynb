{
 "cells": [
  {
   "cell_type": "code",
   "execution_count": 55,
   "metadata": {},
   "outputs": [],
   "source": [
    "# import\n",
    "import pandas as pd\n",
    "import numpy as np\n",
    "import matplotlib.pyplot as plt\n",
    "\n",
    "from sklearn.model_selection import cross_val_predict \n",
    "from sklearn.metrics import mean_squared_error, make_scorer\n",
    "from sklearn.model_selection import train_test_split\n",
    "\n",
    "from sklearn.linear_model import LinearRegression, Ridge, Lasso\n",
    "from sklearn.svm import SVR\n",
    "from sklearn.tree import DecisionTreeRegressor\n",
    "\n",
    "from sklearn.ensemble import RandomForestRegressor\n",
    "from sklearn.ensemble import GradientBoostingRegressor\n",
    "from sklearn.neighbors import KNeighborsRegressor\n",
    "from sklearn.model_selection import GridSearchCV, RandomizedSearchCV\n",
    "import xgboost as xgb\n",
    "\n",
    "import pickle"
   ]
  },
  {
   "cell_type": "code",
   "execution_count": 2,
   "metadata": {},
   "outputs": [],
   "source": [
    "users_df=pd.read_csv(\"../data/users_processing_vModel.csv\")"
   ]
  },
  {
   "cell_type": "code",
   "execution_count": 3,
   "metadata": {},
   "outputs": [],
   "source": [
    "# Split the data into train, validation, and test sets\n",
    "train, test = train_test_split(users_df, test_size=0.2, random_state=42)\n",
    "\n",
    "# For the training set\n",
    "X_train = train.drop(columns=['F_Grade'])\n",
    "y_train = train['F_Grade']\n",
    "\n",
    "# For the testing set\n",
    "X_test = test.drop(columns=['F_Grade'])\n",
    "y_test = test['F_Grade']"
   ]
  },
  {
   "cell_type": "markdown",
   "metadata": {},
   "source": [
    "# Models"
   ]
  },
  {
   "cell_type": "markdown",
   "metadata": {},
   "source": [
    "Once our data has been processed is time to train a model. Our idea is to train all possible modes, looking for the best hyperparameters for each one, and then make an ensemble technique with the best ones. "
   ]
  },
  {
   "cell_type": "markdown",
   "metadata": {},
   "source": [
    "To asses validation we will use Root Mean Squared Logarithmic Error (RMSLE), as our problem is a regression one, with a wide range of values for the price of a house."
   ]
  },
  {
   "cell_type": "code",
   "execution_count": 4,
   "metadata": {},
   "outputs": [],
   "source": [
    "# We will perform Grid Search to find the best hyperparameters for our models, and to assess scoring, we create this function\n",
    "\n",
    "# Function to calculate the Root Mean Squared Logarithmic Error (RMSLE)\n",
    "def rmsle(y_true, y_pred):\n",
    "\n",
    "    \"\"\"\n",
    "    Parameters:\n",
    "    - y_true: True values (actuals).\n",
    "    - y_pred: Predicted values.\n",
    "\n",
    "    Returns:\n",
    "    - RMSLE score (negative, as it is used as a loss function).\n",
    "\n",
    "    General Explanation:\n",
    "    RMSLE is a metric commonly used for evaluating predictive models when the target variable is a positive quantity\n",
    "    with a wide range of values.\n",
    "    It is preferred over metrics like MSE or RMSE because it is sensitive to the magnitude of values.\n",
    "    For example, predicting 600 for a real value of 1000 has an error of 400, and predicting 6000 for a real value of 10000 has an error of 4000.\n",
    "    While it might seem that an error of 400 is better than 4000, but this is not a case because the relative deviation in both cases is same.\n",
    "    RMSLE accounts for the relative deviation rather than absolute values. RMSLE provide us a more meaningful measure.\n",
    "\n",
    "    Usage:\n",
    "    - Call this function to calculate RMSLE between true and predicted values.\n",
    "\n",
    "    Important Note:\n",
    "    - The negative sign is intentional. Scikit-learn optimization algorithms seek to maximize the scoring function,\n",
    "      so returning a negative value aligns with the goal of minimizing RMSLE.\n",
    "\n",
    "    Scikit-Learn Integration:\n",
    "    - This function can be used as a scoring metric in scikit-learn. For example, when performing grid search,\n",
    "      you can use 'make_scorer(rmsle)' to create a scorer suitable for optimization.\n",
    "    \"\"\"\n",
    "\n",
    "    # Convert y_true to a NumPy array\n",
    "    a = y_true.values\n",
    "    \n",
    "    # Check that the lengths of y_true and y_pred are the same\n",
    "    assert len(a) == len(y_pred)\n",
    "    \n",
    "    # Calculate RMSLE using the logarithmic transformation\n",
    "    rmsle = np.sqrt(np.mean((np.log1p(abs(a)) - np.log1p(abs(y_pred)))**2))\n",
    "    \n",
    "    # Return the negative value of RMSLE (for minimization during grid search)\n",
    "    return -rmsle\n",
    "\n",
    "# Create a scorer using make_scorer\n",
    "rmsle_score = make_scorer(rmsle)"
   ]
  },
  {
   "cell_type": "code",
   "execution_count": 5,
   "metadata": {},
   "outputs": [],
   "source": [
    "# We create a dictionary to save the models and their error to later compare them\n",
    "\n",
    "trained_models={}"
   ]
  },
  {
   "cell_type": "code",
   "execution_count": 6,
   "metadata": {},
   "outputs": [],
   "source": [
    "# We create a function to perform predictions and get the error of the prediction\n",
    "\n",
    "def predictions(model, X, y, dataset='Training'):\n",
    "\n",
    "    \"\"\"\n",
    "    Parameters:\n",
    "    - model: The predictive model.\n",
    "    - X: Input features.\n",
    "    - y: True values (actuals).\n",
    "    - dataset: The dataset for which predictions are made ('Training' or 'Testing').\n",
    "\n",
    "    Returns:\n",
    "    - RMSLE score.\n",
    "\n",
    "    General Explanation:\n",
    "    This function facilitates the prediction process using a given model and computes the RMSLE as a metric to\n",
    "    evaluate the model's performance. RMSLE is particularly useful for regression tasks involving positive quantities\n",
    "    with a wide range of values.\n",
    "\n",
    "    Usage:\n",
    "    - Call this function with the trained model, input features (X), and true values (y) to obtain predictions\n",
    "      and calculate RMSLE.\n",
    "    \"\"\"\n",
    "\n",
    "    # If dataset is 'Training', perform cross-validated predictions using cross_val_predict\n",
    "    if dataset == 'Training':\n",
    "        y_model_pred = cross_val_predict(model, X, y, cv=5)\n",
    "    else:\n",
    "        # If dataset is not 'Training', use the model to predict directly\n",
    "        y_model_pred = model.predict(X)\n",
    "\n",
    "    # Calculate the Root Mean Squared Logarithmic Error (RMSLE) using mean_squared_error\n",
    "    rmsle = mean_squared_error(np.log1p(abs(y)), np.log1p(abs(y_model_pred)), squared=False)\n",
    "    \n",
    "    # Print the RMSLE for the specified dataset\n",
    "    print(f\"Root Mean Squared Logarithmic Error on {dataset}: {rmsle}\")\n",
    "    \n",
    "    # Return the calculated RMSLE\n",
    "    return rmsle"
   ]
  },
  {
   "cell_type": "code",
   "execution_count": 7,
   "metadata": {},
   "outputs": [],
   "source": [
    "# We define a function to calculate predictions and errors in the training dataset and add the model to the dictionary\n",
    "\n",
    "def predict_and_save(model, name):\n",
    "\n",
    "    \"\"\"\n",
    "    Parameters:\n",
    "    - model: The predictive model.\n",
    "    - name: A descriptive name for the model, used as a key in the dictionary.\n",
    "\n",
    "    Returns:\n",
    "    - None.\n",
    "\n",
    "    General Explanation:\n",
    "    This function facilitates the process of performing predictions on the training dataset using a given model.\n",
    "    It then calculates the training RMSLE and adds the model along with its training RMSLE to a dictionary.\n",
    "\n",
    "    Usage:\n",
    "    - Call this function with the trained model and a descriptive name to store the model's information.\n",
    "    \"\"\"\n",
    "    \n",
    "    # Perform predictions on the training dataset and calculate the training RMSLE\n",
    "    train_rmsle = predictions(model, X_train, y_train)\n",
    "\n",
    "    # Add the model and its training RMSLE to the dictionary\n",
    "    trained_models[name] = (model, train_rmsle)"
   ]
  },
  {
   "cell_type": "code",
   "execution_count": 8,
   "metadata": {},
   "outputs": [],
   "source": [
    "# We define a function to apply grid search in a given model and return the best estimator\n",
    "\n",
    "def apply_grid_search(model, param_grid, random=False):\n",
    "\n",
    "    \"\"\"    Parameters:\n",
    "    - model: The predictive model.\n",
    "    - param_grid: Dictionary specifying the hyperparameter grid for search.\n",
    "    - random: Boolean flag indicating whether to use RandomizedSearchCV (True) or GridSearchCV (False).\n",
    "\n",
    "    Returns:\n",
    "    - The best estimator (model with the best hyperparameters).\n",
    "\n",
    "    General Explanation:\n",
    "    This function performs grid search or randomized search to find the best hyperparameters for a given model.\n",
    "    The search is conducted over the specified hyperparameter grid, and the best estimator (model with the optimal hyperparameters)\n",
    "    is returned.\n",
    "\n",
    "    Usage:\n",
    "    - Call this function with the model, hyperparameter grid, and an optional flag to specify randomized search.\n",
    "    \"\"\"\n",
    "    \n",
    "    # Initialize a grid search object (either GridSearchCV or RandomizedSearchCV based on the 'random' parameter)\n",
    "    grid_search = None\n",
    "    if random:\n",
    "        grid_search = RandomizedSearchCV(model, param_distributions=param_grid, n_iter=10, cv=5, scoring=rmsle_score, random_state=42)\n",
    "    else:\n",
    "        grid_search = GridSearchCV(model, param_grid, cv=5, scoring=rmsle_score, verbose=0)\n",
    "        \n",
    "    # Fit the grid search to the training data\n",
    "    grid_search.fit(X_train, y_train)\n",
    "\n",
    "    # Print the best hyperparameters found during the search\n",
    "    print(\"Best Parameters:\", grid_search.best_params_)\n",
    "\n",
    "    # Return the best estimator (model with the best hyperparameters)\n",
    "    return grid_search.best_estimator_\n",
    "    \n",
    "        "
   ]
  },
  {
   "cell_type": "markdown",
   "metadata": {},
   "source": [
    "Before start training, to clarify that we won't split the training data into training and validation sets, as we will perform grid search to find the best hyperparameter for our models, which implies cross validation. To perform grid search we will be using the methods `GridSearchCV()`, for the models with low hyperparameter time complexity, and `RandomizedSearchCV()` for the models with high hyperparameter time complexity."
   ]
  },
  {
   "cell_type": "markdown",
   "metadata": {},
   "source": [
    "## Linear regression with regularitzation"
   ]
  },
  {
   "cell_type": "code",
   "execution_count": 9,
   "metadata": {},
   "outputs": [
    {
     "name": "stdout",
     "output_type": "stream",
     "text": [
      "Best Parameters: {'alpha': 10}\n"
     ]
    }
   ],
   "source": [
    "## Ridge\n",
    "\n",
    "# Define the parameter grid for Ridge and Lasso Regression\n",
    "param_grid = {'alpha': [10, 20, 50, 70, 90, 100]}\n",
    "\n",
    "ridge_model=apply_grid_search(Ridge(random_state=42), param_grid)\n"
   ]
  },
  {
   "cell_type": "code",
   "execution_count": 10,
   "metadata": {},
   "outputs": [
    {
     "name": "stdout",
     "output_type": "stream",
     "text": [
      "Root Mean Squared Logarithmic Error on Training: 0.5190293570517206\n"
     ]
    }
   ],
   "source": [
    "predict_and_save(ridge_model, 'ridge')"
   ]
  },
  {
   "cell_type": "code",
   "execution_count": 11,
   "metadata": {},
   "outputs": [
    {
     "name": "stdout",
     "output_type": "stream",
     "text": [
      "Best Parameters: {'alpha': 10}\n"
     ]
    }
   ],
   "source": [
    "## Lasso\n",
    "\n",
    "lasso_model = apply_grid_search(Lasso(random_state=42), param_grid)"
   ]
  },
  {
   "cell_type": "code",
   "execution_count": 12,
   "metadata": {},
   "outputs": [
    {
     "name": "stdout",
     "output_type": "stream",
     "text": [
      "Root Mean Squared Logarithmic Error on Training: 0.6050762536686594\n"
     ]
    }
   ],
   "source": [
    "predict_and_save(lasso_model, 'lasso')"
   ]
  },
  {
   "cell_type": "markdown",
   "metadata": {},
   "source": [
    "## Random Forest"
   ]
  },
  {
   "cell_type": "markdown",
   "metadata": {},
   "source": [
    "In this model, and in gradient boosting and extreme gradient boosting, we will use `RandomizedSearchCV()` instead of `GridSearchCV()`, since its time complexity is very high. As a downside not always will be selected the best parameters, and to solve this we will save in a variable the best parameters we have found until now, and then compare them with the ones found in the current iteration, to select the ones which gives the better result."
   ]
  },
  {
   "cell_type": "code",
   "execution_count": 13,
   "metadata": {},
   "outputs": [
    {
     "name": "stdout",
     "output_type": "stream",
     "text": [
      "Best Parameters: {'n_estimators': 100, 'min_samples_split': 5, 'min_samples_leaf': 1, 'max_features': 'sqrt', 'max_depth': 20}\n"
     ]
    }
   ],
   "source": [
    "## Random Forest\n",
    "\n",
    "param_grid = {\n",
    "    'n_estimators': [10, 50, 90, 100, 110],\n",
    "    'max_depth': [10, 15, 20],\n",
    "    'min_samples_split': [2, 5, 10],\n",
    "    'min_samples_leaf': [1, 2, 4],\n",
    "    'max_features':['sqrt'],\n",
    "}\n",
    "\n",
    "rf_model_temp=apply_grid_search(RandomForestRegressor(random_state=42), param_grid, random=True)\n",
    "\n"
   ]
  },
  {
   "cell_type": "code",
   "execution_count": 14,
   "metadata": {},
   "outputs": [
    {
     "name": "stdout",
     "output_type": "stream",
     "text": [
      "Root Mean Squared Logarithmic Error on Training: 0.40154763239013663\n",
      "Root Mean Squared Logarithmic Error on Training: 0.39552869250497996\n"
     ]
    }
   ],
   "source": [
    "# Comparison between the best parameters found and the current parameters found\n",
    "\n",
    "best_params_until_now={'n_estimators': 100, 'min_samples_split': 5, 'min_samples_leaf': 1, 'max_features': 'sqrt', 'max_depth': 20}\n",
    "\n",
    "rf_model_temp2=RandomForestRegressor(**best_params_until_now)\n",
    "\n",
    "if(predictions(rf_model_temp, X_train, y_train) > predictions(rf_model_temp2, X_train, y_train)):\n",
    "    rf_model=rf_model_temp2\n",
    "    rf_model.fit(X_train, y_train)\n",
    "else: \n",
    "    rf_model=rf_model_temp"
   ]
  },
  {
   "cell_type": "code",
   "execution_count": 15,
   "metadata": {},
   "outputs": [
    {
     "name": "stdout",
     "output_type": "stream",
     "text": [
      "Root Mean Squared Logarithmic Error on Training: 0.403776097878541\n"
     ]
    }
   ],
   "source": [
    "predict_and_save(rf_model, 'random forest')"
   ]
  },
  {
   "cell_type": "markdown",
   "metadata": {},
   "source": [
    "## Support Vector Machines"
   ]
  },
  {
   "cell_type": "code",
   "execution_count": 16,
   "metadata": {},
   "outputs": [
    {
     "name": "stdout",
     "output_type": "stream",
     "text": [
      "Best Parameters: {'C': 1, 'epsilon': 0.2}\n",
      "Best Parameters: {'C': 0.1, 'degree': 4, 'epsilon': 0.1}\n",
      "Best Parameters: {'C': 10, 'epsilon': 0.2, 'gamma': 0.01}\n",
      "Best Parameters: {'C': 10, 'epsilon': 0.2, 'gamma': 0.01}\n"
     ]
    }
   ],
   "source": [
    "## SVM\n",
    "\n",
    "# Define the parameter grid to search\n",
    "param_grid_linear = {\n",
    "    'C': [0.1, 1, 10],\n",
    "    'epsilon': [0.1, 0.2, 0.5]\n",
    "}\n",
    "\n",
    "param_grid_poly = {\n",
    "    'C': [0.1, 1, 10],\n",
    "    'epsilon': [0.1, 0.2, 0.5],\n",
    "    'degree': [2, 3, 4]  # Specify the degree of the polynomial kernel\n",
    "}\n",
    "\n",
    "param_grid_rbf_sigmoid = {\n",
    "    'C': [0.1, 1, 10],\n",
    "    'epsilon': [0.1, 0.2, 0.5],\n",
    "    'gamma': [0.01, 0.1, 1] # Specify the gamma parameter for the RBF kernel\n",
    "}\n",
    "\n",
    "\n",
    "linear_svr_model=apply_grid_search(SVR(kernel='linear'), param_grid_linear)\n",
    "polynomial_svr_model=apply_grid_search(SVR(kernel='poly'), param_grid_poly)\n",
    "rbf_svr_model=apply_grid_search(SVR(kernel='rbf'), param_grid_rbf_sigmoid)\n",
    "sigmoid_svr_model=apply_grid_search(SVR(kernel='sigmoid'), param_grid_rbf_sigmoid)"
   ]
  },
  {
   "cell_type": "code",
   "execution_count": 17,
   "metadata": {},
   "outputs": [
    {
     "name": "stdout",
     "output_type": "stream",
     "text": [
      "linear svm:\n",
      "Root Mean Squared Logarithmic Error on Training: 0.47199836488651725\n",
      "polynomial svm:\n",
      "Root Mean Squared Logarithmic Error on Training: 0.5434180775807282\n",
      "rbf svm:\n",
      "Root Mean Squared Logarithmic Error on Training: 0.40611275413326786\n",
      "sigmoid svm:\n",
      "Root Mean Squared Logarithmic Error on Training: 0.5494729386266882\n"
     ]
    }
   ],
   "source": [
    "print('linear svm:')\n",
    "predict_and_save(linear_svr_model, 'linear svm')\n",
    "print('polynomial svm:')\n",
    "predict_and_save(polynomial_svr_model, 'polynomial svm')\n",
    "print('rbf svm:')\n",
    "predict_and_save(rbf_svr_model, 'rbf svm')\n",
    "print('sigmoid svm:')\n",
    "predict_and_save(sigmoid_svr_model, 'sigmoid svm')"
   ]
  },
  {
   "cell_type": "markdown",
   "metadata": {},
   "source": [
    "## Gradient Boosting"
   ]
  },
  {
   "cell_type": "code",
   "execution_count": 21,
   "metadata": {},
   "outputs": [
    {
     "name": "stdout",
     "output_type": "stream",
     "text": [
      "Best Parameters: {'n_estimators': 500, 'max_depth': 4, 'learning_rate': 0.1}\n"
     ]
    }
   ],
   "source": [
    "## Gradient Boosting\n",
    "\n",
    "gtb_model = GradientBoostingRegressor()\n",
    "param_grid = {\n",
    "    'n_estimators': [500, 600, 700],\n",
    "    'max_depth':[3, 4, 5],\n",
    "    'learning_rate':[0.01, 0.015, 0.1],\n",
    "}\n",
    "\n",
    "gtb_model_temp=apply_grid_search(GradientBoostingRegressor(), param_grid, random=True)"
   ]
  },
  {
   "cell_type": "code",
   "execution_count": 22,
   "metadata": {},
   "outputs": [
    {
     "name": "stdout",
     "output_type": "stream",
     "text": [
      "Root Mean Squared Logarithmic Error on Training: 0.3891808037098769\n",
      "Root Mean Squared Logarithmic Error on Training: 0.4117923626670202\n"
     ]
    }
   ],
   "source": [
    "# Comparison between the best parameters found and the current parameters found\n",
    "\n",
    "best_params_until_now={'n_estimators': 700, 'max_depth': 3, 'learning_rate': 0.015}\n",
    "\n",
    "gtb_model_temp2=GradientBoostingRegressor(**best_params_until_now)\n",
    "\n",
    "if(predictions(gtb_model_temp, X_train, y_train) > predictions(gtb_model_temp2, X_train, y_train)):\n",
    "    gtb_model=gtb_model_temp2\n",
    "    gtb_model.fit(X_train, y_train)\n",
    "else: \n",
    "    gtb_model=gtb_model_temp"
   ]
  },
  {
   "cell_type": "code",
   "execution_count": 23,
   "metadata": {},
   "outputs": [
    {
     "name": "stdout",
     "output_type": "stream",
     "text": [
      "Root Mean Squared Logarithmic Error on Training: 0.39016601810951457\n"
     ]
    }
   ],
   "source": [
    "predict_and_save(gtb_model, 'gradient boosting')"
   ]
  },
  {
   "cell_type": "markdown",
   "metadata": {},
   "source": [
    "## Extreme Gradient Boosting"
   ]
  },
  {
   "cell_type": "code",
   "execution_count": 24,
   "metadata": {},
   "outputs": [
    {
     "name": "stdout",
     "output_type": "stream",
     "text": [
      "Best Parameters: {'n_estimators': 500, 'max_depth': 5, 'learning_rate': 0.1, 'eval_metric': 'rmsle'}\n"
     ]
    }
   ],
   "source": [
    "## Extreme Gradient Boosting\n",
    "\n",
    "param_grid={\n",
    "    'learning_rate':[0.01, 0.015, 0.1],\n",
    "    'max_depth':[3, 4, 5],\n",
    "    'n_estimators': [500, 600, 700],\n",
    "    'eval_metric':['rmsle'],\n",
    "}\n",
    "\n",
    "xgb_model_temp=apply_grid_search(xgb.XGBRegressor(), param_grid, random=True)"
   ]
  },
  {
   "cell_type": "code",
   "execution_count": 25,
   "metadata": {},
   "outputs": [
    {
     "name": "stdout",
     "output_type": "stream",
     "text": [
      "Root Mean Squared Logarithmic Error on Training: 0.3963677791247129\n",
      "Root Mean Squared Logarithmic Error on Training: 0.40879231713162856\n"
     ]
    }
   ],
   "source": [
    "# Comparison between the best parameters found and the current parameters found\n",
    "\n",
    "best_params_until_now={'n_estimators': 700, 'max_depth': 3, 'learning_rate': 0.015, 'eval_metric': 'rmsle'}\n",
    "\n",
    "xgb_model_temp2=xgb.XGBRegressor(**best_params_until_now)\n",
    "\n",
    "if(predictions(xgb_model_temp, X_train, y_train) > predictions(xgb_model_temp2, X_train, y_train)):\n",
    "    xgb_model=xgb_model_temp2\n",
    "    xgb_model.fit(X_train, y_train)\n",
    "else: \n",
    "    xgb_model=xgb_model_temp"
   ]
  },
  {
   "cell_type": "code",
   "execution_count": 26,
   "metadata": {},
   "outputs": [
    {
     "name": "stdout",
     "output_type": "stream",
     "text": [
      "Root Mean Squared Logarithmic Error on Training: 0.3963677791247129\n"
     ]
    }
   ],
   "source": [
    "predict_and_save(xgb_model, 'extreme gradient boosting')"
   ]
  },
  {
   "cell_type": "markdown",
   "metadata": {},
   "source": [
    "## Stacking Ensemble"
   ]
  },
  {
   "cell_type": "markdown",
   "metadata": {},
   "source": [
    "For the ensemble technique we will use stacking, as it can be used for regression tasks and combine the predictions of the differents models, capturing different aspects of the data."
   ]
  },
  {
   "cell_type": "code",
   "execution_count": 27,
   "metadata": {},
   "outputs": [
    {
     "name": "stdout",
     "output_type": "stream",
     "text": [
      "ridge , RMSLE: 0.5190293570517206\n",
      "lasso , RMSLE: 0.6050762536686594\n",
      "random forest , RMSLE: 0.403776097878541\n",
      "linear svm , RMSLE: 0.47199836488651725\n",
      "polynomial svm , RMSLE: 0.5434180775807282\n",
      "rbf svm , RMSLE: 0.40611275413326786\n",
      "sigmoid svm , RMSLE: 0.5494729386266882\n",
      "gradient boosting , RMSLE: 0.39016601810951457\n",
      "extreme gradient boosting , RMSLE: 0.3963677791247129\n"
     ]
    }
   ],
   "source": [
    "# Now, we have to decide which are the best models we have to do stacking\n",
    "\n",
    "for key in trained_models:\n",
    "    print(key,', RMSLE:',trained_models[key][1])"
   ]
  },
  {
   "cell_type": "code",
   "execution_count": 28,
   "metadata": {},
   "outputs": [
    {
     "data": {
      "image/png": "[encoded data removed]",
      "text/plain": [
       "<Figure size 1000x600 with 1 Axes>"
      ]
     },
     "metadata": {},
     "output_type": "display_data"
    }
   ],
   "source": [
    "#We will plot the results of the models with its errors to see more clearly which are the best models\n",
    "\n",
    "# Extract keys and values from the dictionary\n",
    "models = list(trained_models.keys())\n",
    "rmsle_values = [value[1] for value in trained_models.values()]\n",
    "\n",
    "plt.figure(figsize=(10, 6))\n",
    "plt.bar(models, rmsle_values, color='blue')\n",
    "plt.xlabel('Models')\n",
    "plt.ylabel('RMSLE')\n",
    "plt.title('RMSLE for Different Models')\n",
    "plt.xticks(rotation=45, ha='right')  # Rotate x-axis labels for better readability\n",
    "plt.tight_layout()  # Adjust layout to prevent clipping\n",
    "plt.show()"
   ]
  },
  {
   "cell_type": "markdown",
   "metadata": {},
   "source": [
    "As we can see, the ones with best performance during cross validation are ridge, lasso, gradient boosting and extreme gradient boosting, so we will perform stacking with these models."
   ]
  },
  {
   "cell_type": "markdown",
   "metadata": {},
   "source": [
    "To do staking we are going to follow the following steps:"
   ]
  },
  {
   "cell_type": "code",
   "execution_count": 40,
   "metadata": {},
   "outputs": [],
   "source": [
    "#Step 1: Get the predictions of the best models \n",
    "\n",
    "\n",
    "# Get predictions using 5-fold cross-validation\n",
    "xgb_model_pred = cross_val_predict(xgb_model, X_train, y_train, cv=5)"
   ]
  },
  {
   "cell_type": "code",
   "execution_count": 41,
   "metadata": {},
   "outputs": [],
   "source": [
    "rbf_svr_model_pred = cross_val_predict(rbf_svr_model, X_train, y_train, cv=5)"
   ]
  },
  {
   "cell_type": "code",
   "execution_count": 42,
   "metadata": {},
   "outputs": [],
   "source": [
    "gtb_model_pred = cross_val_predict(gtb_model, X_train, y_train, cv=5)"
   ]
  },
  {
   "cell_type": "code",
   "execution_count": 43,
   "metadata": {},
   "outputs": [],
   "source": [
    "rf_model_pred = cross_val_predict(rf_model, X_train, y_train, cv=5)"
   ]
  },
  {
   "cell_type": "code",
   "execution_count": 44,
   "metadata": {},
   "outputs": [],
   "source": [
    "# Step 2: Stack the predictions\n",
    "\n",
    "stacking_input = np.column_stack((xgb_model_pred, rbf_svr_model_pred, gtb_model_pred, rf_model_pred))"
   ]
  },
  {
   "cell_type": "code",
   "execution_count": 45,
   "metadata": {},
   "outputs": [],
   "source": [
    "# Step 3: Define a meta-model for stacking (We tried all the best models to be the meta-model and we found that Ridge was the best)\n",
    "\n",
    "param_grid = {'alpha': [10, 20, 50, 70, 90, 100]}\n",
    "\n",
    "meta_model=GridSearchCV(Ridge(), param_grid, cv=5, scoring=rmsle_score, verbose=0)"
   ]
  },
  {
   "cell_type": "code",
   "execution_count": 46,
   "metadata": {},
   "outputs": [
    {
     "data": {
      "text/html": [
       "<style>#sk-container-id-2 {color: black;}#sk-container-id-2 pre{padding: 0;}#sk-container-id-2 div.sk-toggleable {background-color: white;}#sk-container-id-2 label.sk-toggleable__label {cursor: pointer;display: block;width: 100%;margin-bottom: 0;padding: 0.3em;box-sizing: border-box;text-align: center;}#sk-container-id-2 label.sk-toggleable__label-arrow:before {content: \"▸\";float: left;margin-right: 0.25em;color: #696969;}#sk-container-id-2 label.sk-toggleable__label-arrow:hover:before {color: black;}#sk-container-id-2 div.sk-estimator:hover label.sk-toggleable__label-arrow:before {color: black;}#sk-container-id-2 div.sk-toggleable__content {max-height: 0;max-width: 0;overflow: hidden;text-align: left;background-color: #f0f8ff;}#sk-container-id-2 div.sk-toggleable__content pre {margin: 0.2em;color: black;border-radius: 0.25em;background-color: #f0f8ff;}#sk-container-id-2 input.sk-toggleable__control:checked~div.sk-toggleable__content {max-height: 200px;max-width: 100%;overflow: auto;}#sk-container-id-2 input.sk-toggleable__control:checked~label.sk-toggleable__label-arrow:before {content: \"▾\";}#sk-container-id-2 div.sk-estimator input.sk-toggleable__control:checked~label.sk-toggleable__label {background-color: #d4ebff;}#sk-container-id-2 div.sk-label input.sk-toggleable__control:checked~label.sk-toggleable__label {background-color: #d4ebff;}#sk-container-id-2 input.sk-hidden--visually {border: 0;clip: rect(1px 1px 1px 1px);clip: rect(1px, 1px, 1px, 1px);height: 1px;margin: -1px;overflow: hidden;padding: 0;position: absolute;width: 1px;}#sk-container-id-2 div.sk-estimator {font-family: monospace;background-color: #f0f8ff;border: 1px dotted black;border-radius: 0.25em;box-sizing: border-box;margin-bottom: 0.5em;}#sk-container-id-2 div.sk-estimator:hover {background-color: #d4ebff;}#sk-container-id-2 div.sk-parallel-item::after {content: \"\";width: 100%;border-bottom: 1px solid gray;flex-grow: 1;}#sk-container-id-2 div.sk-label:hover label.sk-toggleable__label {background-color: #d4ebff;}#sk-container-id-2 div.sk-serial::before {content: \"\";position: absolute;border-left: 1px solid gray;box-sizing: border-box;top: 0;bottom: 0;left: 50%;z-index: 0;}#sk-container-id-2 div.sk-serial {display: flex;flex-direction: column;align-items: center;background-color: white;padding-right: 0.2em;padding-left: 0.2em;position: relative;}#sk-container-id-2 div.sk-item {position: relative;z-index: 1;}#sk-container-id-2 div.sk-parallel {display: flex;align-items: stretch;justify-content: center;background-color: white;position: relative;}#sk-container-id-2 div.sk-item::before, #sk-container-id-2 div.sk-parallel-item::before {content: \"\";position: absolute;border-left: 1px solid gray;box-sizing: border-box;top: 0;bottom: 0;left: 50%;z-index: -1;}#sk-container-id-2 div.sk-parallel-item {display: flex;flex-direction: column;z-index: 1;position: relative;background-color: white;}#sk-container-id-2 div.sk-parallel-item:first-child::after {align-self: flex-end;width: 50%;}#sk-container-id-2 div.sk-parallel-item:last-child::after {align-self: flex-start;width: 50%;}#sk-container-id-2 div.sk-parallel-item:only-child::after {width: 0;}#sk-container-id-2 div.sk-dashed-wrapped {border: 1px dashed gray;margin: 0 0.4em 0.5em 0.4em;box-sizing: border-box;padding-bottom: 0.4em;background-color: white;}#sk-container-id-2 div.sk-label label {font-family: monospace;font-weight: bold;display: inline-block;line-height: 1.2em;}#sk-container-id-2 div.sk-label-container {text-align: center;}#sk-container-id-2 div.sk-container {/* jupyter's `normalize.less` sets `[hidden] { display: none; }` but bootstrap.min.css set `[hidden] { display: none !important; }` so we also need the `!important` here to be able to override the default hidden behavior on the sphinx rendered scikit-learn.org. See: https://github.com/scikit-learn/scikit-learn/issues/21755 */display: inline-block !important;position: relative;}#sk-container-id-2 div.sk-text-repr-fallback {display: none;}</style><div id=\"sk-container-id-2\" class=\"sk-top-container\"><div class=\"sk-text-repr-fallback\"><pre>GridSearchCV(cv=5, estimator=Ridge(),\n",
       "             param_grid={&#x27;alpha&#x27;: [10, 20, 50, 70, 90, 100]},\n",
       "             scoring=make_scorer(rmsle))</pre><b>In a Jupyter environment, please rerun this cell to show the HTML representation or trust the notebook. <br />On GitHub, the HTML representation is unable to render, please try loading this page with nbviewer.org.</b></div><div class=\"sk-container\" hidden><div class=\"sk-item sk-dashed-wrapped\"><div class=\"sk-label-container\"><div class=\"sk-label sk-toggleable\"><input class=\"sk-toggleable__control sk-hidden--visually\" id=\"sk-estimator-id-4\" type=\"checkbox\" ><label for=\"sk-estimator-id-4\" class=\"sk-toggleable__label sk-toggleable__label-arrow\">GridSearchCV</label><div class=\"sk-toggleable__content\"><pre>GridSearchCV(cv=5, estimator=Ridge(),\n",
       "             param_grid={&#x27;alpha&#x27;: [10, 20, 50, 70, 90, 100]},\n",
       "             scoring=make_scorer(rmsle))</pre></div></div></div><div class=\"sk-parallel\"><div class=\"sk-parallel-item\"><div class=\"sk-item\"><div class=\"sk-label-container\"><div class=\"sk-label sk-toggleable\"><input class=\"sk-toggleable__control sk-hidden--visually\" id=\"sk-estimator-id-5\" type=\"checkbox\" ><label for=\"sk-estimator-id-5\" class=\"sk-toggleable__label sk-toggleable__label-arrow\">estimator: Ridge</label><div class=\"sk-toggleable__content\"><pre>Ridge()</pre></div></div></div><div class=\"sk-serial\"><div class=\"sk-item\"><div class=\"sk-estimator sk-toggleable\"><input class=\"sk-toggleable__control sk-hidden--visually\" id=\"sk-estimator-id-6\" type=\"checkbox\" ><label for=\"sk-estimator-id-6\" class=\"sk-toggleable__label sk-toggleable__label-arrow\">Ridge</label><div class=\"sk-toggleable__content\"><pre>Ridge()</pre></div></div></div></div></div></div></div></div></div></div>"
      ],
      "text/plain": [
       "GridSearchCV(cv=5, estimator=Ridge(),\n",
       "             param_grid={'alpha': [10, 20, 50, 70, 90, 100]},\n",
       "             scoring=make_scorer(rmsle))"
      ]
     },
     "execution_count": 46,
     "metadata": {},
     "output_type": "execute_result"
    }
   ],
   "source": [
    "# Step 4: Train the meta-model on the combined predictions\n",
    "\n",
    "meta_model.fit(stacking_input, y_train)"
   ]
  },
  {
   "cell_type": "code",
   "execution_count": 47,
   "metadata": {},
   "outputs": [],
   "source": [
    "stacking_output= np.column_stack(( xgb_model.predict(X_test), ridge_model.predict(X_test), gtb_model.predict(X_test), lasso_model.predict(X_test)))\n",
    "\n",
    "y_pred = meta_model.predict(stacking_output)"
   ]
  },
  {
   "cell_type": "code",
   "execution_count": 48,
   "metadata": {},
   "outputs": [
    {
     "name": "stdout",
     "output_type": "stream",
     "text": [
      "Root Mean Squared Logarithmic Error on Training: 0.40758720092597206\n"
     ]
    },
    {
     "data": {
      "text/plain": [
       "0.40758720092597206"
      ]
     },
     "execution_count": 48,
     "metadata": {},
     "output_type": "execute_result"
    }
   ],
   "source": [
    "predictions(meta_model, stacking_input, y_train, dataset='Training')"
   ]
  },
  {
   "cell_type": "markdown",
   "metadata": {},
   "source": [
    "# Test set predictions"
   ]
  },
  {
   "cell_type": "code",
   "execution_count": 53,
   "metadata": {},
   "outputs": [
    {
     "name": "stdout",
     "output_type": "stream",
     "text": [
      "Root Mean Squared Logarithmic Error on Testing: 0.6006238430439558\n"
     ]
    },
    {
     "data": {
      "text/plain": [
       "0.6006238430439558"
      ]
     },
     "execution_count": 53,
     "metadata": {},
     "output_type": "execute_result"
    }
   ],
   "source": [
    "predictions(meta_model, stacking_output, y_test, dataset='Testing')"
   ]
  },
  {
   "cell_type": "code",
   "execution_count": 59,
   "metadata": {},
   "outputs": [],
   "source": [
    "# Save the model to a file\n",
    "with open('../models/meta_model.pkl', 'wb') as f:\n",
    "    pickle.dump(meta_model, f)"
   ]
  }
 ],
 "metadata": {
  "kernelspec": {
   "display_name": "base",
   "language": "python",
   "name": "python3"
  },
  "language_info": {
   "codemirror_mode": {
    "name": "ipython",
    "version": 3
   },
   "file_extension": ".py",
   "mimetype": "text/x-python",
   "name": "python",
   "nbconvert_exporter": "python",
   "pygments_lexer": "ipython3",
   "version": "3.11.4"
  }
 },
 "nbformat": 4,
 "nbformat_minor": 2
}
