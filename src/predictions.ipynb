{
 "cells": [
  {
   "cell_type": "code",
   "execution_count": 67,
   "metadata": {},
   "outputs": [],
   "source": [
    "# Imports\n",
    "\n",
    "import pandas as pd\n",
    "import numpy as np\n",
    "\n",
    "import matplotlib.pyplot as plt\n",
    "\n",
    "import random\n",
    "\n",
    "from sklearn.utils import check_random_state\n"
   ]
  },
  {
   "cell_type": "code",
   "execution_count": 68,
   "metadata": {},
   "outputs": [
    {
     "data": {
      "text/plain": [
       "\"# Set random seed for NumPy\\nnp.random.seed(42)\\n# Set random seed for Python's built-in random module\\nrandom.seed(42)\\n# Set global seed for scikit-learn's check_random_state (if applicable)\\ncheck_random_state(42)\""
      ]
     },
     "execution_count": 68,
     "metadata": {},
     "output_type": "execute_result"
    }
   ],
   "source": [
    "\"\"\"# Set random seed for NumPy\n",
    "np.random.seed(42)\n",
    "# Set random seed for Python's built-in random module\n",
    "random.seed(42)\n",
    "# Set global seed for scikit-learn's check_random_state (if applicable)\n",
    "check_random_state(42)\"\"\""
   ]
  },
  {
   "cell_type": "markdown",
   "metadata": {},
   "source": [
    "# Data analisys"
   ]
  },
  {
   "cell_type": "code",
   "execution_count": 69,
   "metadata": {},
   "outputs": [],
   "source": [
    "activities_df=pd.read_csv(\"../data/activitats.csv\",  encoding=\"ISO-8859-1\")\n",
    "marks_df=pd.read_csv(\"../data/notes.csv\", sep=\";\")\n",
    "uploads_df=pd.read_csv(\"../data/trameses.csv\")\n"
   ]
  },
  {
   "cell_type": "code",
   "execution_count": 70,
   "metadata": {},
   "outputs": [
    {
     "data": {
      "text/html": [
       "<div>\n",
       "<style scoped>\n",
       "    .dataframe tbody tr th:only-of-type {\n",
       "        vertical-align: middle;\n",
       "    }\n",
       "\n",
       "    .dataframe tbody tr th {\n",
       "        vertical-align: top;\n",
       "    }\n",
       "\n",
       "    .dataframe thead th {\n",
       "        text-align: right;\n",
       "    }\n",
       "</style>\n",
       "<table border=\"1\" class=\"dataframe\">\n",
       "  <thead>\n",
       "    <tr style=\"text-align: right;\">\n",
       "      <th></th>\n",
       "      <th>activitat_id</th>\n",
       "      <th>activitat</th>\n",
       "      <th>aula_id</th>\n",
       "      <th>startdate</th>\n",
       "      <th>duedate</th>\n",
       "      <th>grade</th>\n",
       "    </tr>\n",
       "  </thead>\n",
       "  <tbody>\n",
       "    <tr>\n",
       "      <th>0</th>\n",
       "      <td>3</td>\n",
       "      <td>Problema 1.1 - Hello world!!!</td>\n",
       "      <td>87</td>\n",
       "      <td>0</td>\n",
       "      <td>0</td>\n",
       "      <td>100</td>\n",
       "    </tr>\n",
       "    <tr>\n",
       "      <th>1</th>\n",
       "      <td>4</td>\n",
       "      <td>Problema 1.2 - Hello world!!! ++</td>\n",
       "      <td>87</td>\n",
       "      <td>0</td>\n",
       "      <td>0</td>\n",
       "      <td>100</td>\n",
       "    </tr>\n",
       "    <tr>\n",
       "      <th>2</th>\n",
       "      <td>5</td>\n",
       "      <td>Problema 3a.1: Càlcul edat</td>\n",
       "      <td>87</td>\n",
       "      <td>0</td>\n",
       "      <td>0</td>\n",
       "      <td>100</td>\n",
       "    </tr>\n",
       "    <tr>\n",
       "      <th>3</th>\n",
       "      <td>6</td>\n",
       "      <td>Problema 3a.8: Conversió dòlars a euros</td>\n",
       "      <td>87</td>\n",
       "      <td>0</td>\n",
       "      <td>0</td>\n",
       "      <td>100</td>\n",
       "    </tr>\n",
       "    <tr>\n",
       "      <th>4</th>\n",
       "      <td>7</td>\n",
       "      <td>Problema 3a.11: Mitjana de notes</td>\n",
       "      <td>87</td>\n",
       "      <td>0</td>\n",
       "      <td>0</td>\n",
       "      <td>100</td>\n",
       "    </tr>\n",
       "  </tbody>\n",
       "</table>\n",
       "</div>"
      ],
      "text/plain": [
       "   activitat_id                                activitat  aula_id  startdate  \\\n",
       "0             3            Problema 1.1 - Hello world!!!       87          0   \n",
       "1             4         Problema 1.2 - Hello world!!! ++       87          0   \n",
       "2             5               Problema 3a.1: Càlcul edat       87          0   \n",
       "3             6  Problema 3a.8: Conversió dòlars a euros       87          0   \n",
       "4             7         Problema 3a.11: Mitjana de notes       87          0   \n",
       "\n",
       "   duedate  grade  \n",
       "0        0    100  \n",
       "1        0    100  \n",
       "2        0    100  \n",
       "3        0    100  \n",
       "4        0    100  "
      ]
     },
     "execution_count": 70,
     "metadata": {},
     "output_type": "execute_result"
    }
   ],
   "source": [
    "activities_df.head()"
   ]
  },
  {
   "cell_type": "code",
   "execution_count": 71,
   "metadata": {},
   "outputs": [
    {
     "name": "stdout",
     "output_type": "stream",
     "text": [
      "<class 'pandas.core.frame.DataFrame'>\n",
      "RangeIndex: 1801 entries, 0 to 1800\n",
      "Data columns (total 6 columns):\n",
      " #   Column        Non-Null Count  Dtype \n",
      "---  ------        --------------  ----- \n",
      " 0   activitat_id  1801 non-null   int64 \n",
      " 1   activitat     1801 non-null   object\n",
      " 2   aula_id       1801 non-null   int64 \n",
      " 3   startdate     1801 non-null   int64 \n",
      " 4   duedate       1801 non-null   int64 \n",
      " 5   grade         1801 non-null   int64 \n",
      "dtypes: int64(5), object(1)\n",
      "memory usage: 84.6+ KB\n"
     ]
    }
   ],
   "source": [
    "activities_df.info()"
   ]
  },
  {
   "cell_type": "code",
   "execution_count": 72,
   "metadata": {},
   "outputs": [
    {
     "data": {
      "text/html": [
       "<div>\n",
       "<style scoped>\n",
       "    .dataframe tbody tr th:only-of-type {\n",
       "        vertical-align: middle;\n",
       "    }\n",
       "\n",
       "    .dataframe tbody tr th {\n",
       "        vertical-align: top;\n",
       "    }\n",
       "\n",
       "    .dataframe thead th {\n",
       "        text-align: right;\n",
       "    }\n",
       "</style>\n",
       "<table border=\"1\" class=\"dataframe\">\n",
       "  <thead>\n",
       "    <tr style=\"text-align: right;\">\n",
       "      <th></th>\n",
       "      <th>userid</th>\n",
       "      <th>aula_id</th>\n",
       "      <th>P_Grade</th>\n",
       "      <th>P_Grade_Date</th>\n",
       "      <th>F_Grade</th>\n",
       "      <th>F_Grade_Date</th>\n",
       "      <th>R_Grade</th>\n",
       "      <th>R_Grade_Date</th>\n",
       "    </tr>\n",
       "  </thead>\n",
       "  <tbody>\n",
       "    <tr>\n",
       "      <th>0</th>\n",
       "      <td>176</td>\n",
       "      <td>92</td>\n",
       "      <td>NaN</td>\n",
       "      <td>NaN</td>\n",
       "      <td>9,25</td>\n",
       "      <td>1667829600</td>\n",
       "      <td>NaN</td>\n",
       "      <td>1675173600</td>\n",
       "    </tr>\n",
       "    <tr>\n",
       "      <th>1</th>\n",
       "      <td>179</td>\n",
       "      <td>92</td>\n",
       "      <td>NaN</td>\n",
       "      <td>NaN</td>\n",
       "      <td>7,75</td>\n",
       "      <td>1667829600</td>\n",
       "      <td>NaN</td>\n",
       "      <td>1675173600</td>\n",
       "    </tr>\n",
       "    <tr>\n",
       "      <th>2</th>\n",
       "      <td>168</td>\n",
       "      <td>92</td>\n",
       "      <td>NaN</td>\n",
       "      <td>NaN</td>\n",
       "      <td>7,75</td>\n",
       "      <td>1667829600</td>\n",
       "      <td>NaN</td>\n",
       "      <td>1675173600</td>\n",
       "    </tr>\n",
       "    <tr>\n",
       "      <th>3</th>\n",
       "      <td>401</td>\n",
       "      <td>92</td>\n",
       "      <td>NaN</td>\n",
       "      <td>NaN</td>\n",
       "      <td>3,50</td>\n",
       "      <td>1667829600</td>\n",
       "      <td>8,25</td>\n",
       "      <td>1675173600</td>\n",
       "    </tr>\n",
       "    <tr>\n",
       "      <th>4</th>\n",
       "      <td>482</td>\n",
       "      <td>92</td>\n",
       "      <td>NaN</td>\n",
       "      <td>NaN</td>\n",
       "      <td>7,00</td>\n",
       "      <td>1667829600</td>\n",
       "      <td>NaN</td>\n",
       "      <td>1675173600</td>\n",
       "    </tr>\n",
       "  </tbody>\n",
       "</table>\n",
       "</div>"
      ],
      "text/plain": [
       "   userid  aula_id P_Grade  P_Grade_Date F_Grade  F_Grade_Date R_Grade  \\\n",
       "0     176       92     NaN           NaN    9,25    1667829600     NaN   \n",
       "1     179       92     NaN           NaN    7,75    1667829600     NaN   \n",
       "2     168       92     NaN           NaN    7,75    1667829600     NaN   \n",
       "3     401       92     NaN           NaN    3,50    1667829600    8,25   \n",
       "4     482       92     NaN           NaN    7,00    1667829600     NaN   \n",
       "\n",
       "   R_Grade_Date  \n",
       "0    1675173600  \n",
       "1    1675173600  \n",
       "2    1675173600  \n",
       "3    1675173600  \n",
       "4    1675173600  "
      ]
     },
     "execution_count": 72,
     "metadata": {},
     "output_type": "execute_result"
    }
   ],
   "source": [
    "marks_df.head()"
   ]
  },
  {
   "cell_type": "code",
   "execution_count": 73,
   "metadata": {},
   "outputs": [
    {
     "data": {
      "text/html": [
       "<div>\n",
       "<style scoped>\n",
       "    .dataframe tbody tr th:only-of-type {\n",
       "        vertical-align: middle;\n",
       "    }\n",
       "\n",
       "    .dataframe tbody tr th {\n",
       "        vertical-align: top;\n",
       "    }\n",
       "\n",
       "    .dataframe thead th {\n",
       "        text-align: right;\n",
       "    }\n",
       "</style>\n",
       "<table border=\"1\" class=\"dataframe\">\n",
       "  <thead>\n",
       "    <tr style=\"text-align: right;\">\n",
       "      <th></th>\n",
       "      <th>id</th>\n",
       "      <th>activitat_id</th>\n",
       "      <th>userid</th>\n",
       "      <th>datesubmitted</th>\n",
       "      <th>grader</th>\n",
       "      <th>dategraded</th>\n",
       "      <th>grade</th>\n",
       "      <th>nevaluations</th>\n",
       "    </tr>\n",
       "  </thead>\n",
       "  <tbody>\n",
       "    <tr>\n",
       "      <th>0</th>\n",
       "      <td>6</td>\n",
       "      <td>3</td>\n",
       "      <td>31</td>\n",
       "      <td>1658829978</td>\n",
       "      <td>0.0</td>\n",
       "      <td>1.658830e+09</td>\n",
       "      <td>100.0</td>\n",
       "      <td>1</td>\n",
       "    </tr>\n",
       "    <tr>\n",
       "      <th>1</th>\n",
       "      <td>7</td>\n",
       "      <td>362</td>\n",
       "      <td>26</td>\n",
       "      <td>1658837049</td>\n",
       "      <td>0.0</td>\n",
       "      <td>1.658837e+09</td>\n",
       "      <td>100.0</td>\n",
       "      <td>0</td>\n",
       "    </tr>\n",
       "    <tr>\n",
       "      <th>2</th>\n",
       "      <td>9</td>\n",
       "      <td>362</td>\n",
       "      <td>26</td>\n",
       "      <td>1658837075</td>\n",
       "      <td>0.0</td>\n",
       "      <td>1.658837e+09</td>\n",
       "      <td>100.0</td>\n",
       "      <td>0</td>\n",
       "    </tr>\n",
       "    <tr>\n",
       "      <th>3</th>\n",
       "      <td>15</td>\n",
       "      <td>362</td>\n",
       "      <td>31</td>\n",
       "      <td>1662537577</td>\n",
       "      <td>0.0</td>\n",
       "      <td>1.662538e+09</td>\n",
       "      <td>NaN</td>\n",
       "      <td>0</td>\n",
       "    </tr>\n",
       "    <tr>\n",
       "      <th>4</th>\n",
       "      <td>16</td>\n",
       "      <td>362</td>\n",
       "      <td>31</td>\n",
       "      <td>1662537593</td>\n",
       "      <td>0.0</td>\n",
       "      <td>1.662712e+09</td>\n",
       "      <td>100.0</td>\n",
       "      <td>0</td>\n",
       "    </tr>\n",
       "  </tbody>\n",
       "</table>\n",
       "</div>"
      ],
      "text/plain": [
       "   id  activitat_id  userid  datesubmitted  grader    dategraded  grade  \\\n",
       "0   6             3      31     1658829978     0.0  1.658830e+09  100.0   \n",
       "1   7           362      26     1658837049     0.0  1.658837e+09  100.0   \n",
       "2   9           362      26     1658837075     0.0  1.658837e+09  100.0   \n",
       "3  15           362      31     1662537577     0.0  1.662538e+09    NaN   \n",
       "4  16           362      31     1662537593     0.0  1.662712e+09  100.0   \n",
       "\n",
       "   nevaluations  \n",
       "0             1  \n",
       "1             0  \n",
       "2             0  \n",
       "3             0  \n",
       "4             0  "
      ]
     },
     "execution_count": 73,
     "metadata": {},
     "output_type": "execute_result"
    }
   ],
   "source": [
    "uploads_df.head()"
   ]
  },
  {
   "cell_type": "code",
   "execution_count": 74,
   "metadata": {},
   "outputs": [
    {
     "name": "stdout",
     "output_type": "stream",
     "text": [
      "   id  activitat_id  userid  datesubmitted  grader    dategraded  grade  \\\n",
      "0   7           362      26     1658837049     0.0  1.658837e+09  100.0   \n",
      "\n",
      "   nevaluations  \n",
      "0             0  \n"
     ]
    }
   ],
   "source": [
    "from pandasql import sqldf\n",
    "print(sqldf(\"SELECT * from uploads_df WHERE id=7\"))"
   ]
  },
  {
   "cell_type": "markdown",
   "metadata": {},
   "source": [
    "## Data cleaning"
   ]
  },
  {
   "cell_type": "markdown",
   "metadata": {},
   "source": [
    "### Delete unnecesary variables"
   ]
  },
  {
   "cell_type": "code",
   "execution_count": 75,
   "metadata": {},
   "outputs": [],
   "source": [
    "# Dates are unnecessary information for our goal\n",
    "activities_df = activities_df.drop('startdate', axis=1)\n",
    "activities_df = activities_df.drop('duedate', axis=1)\n",
    "\n",
    "marks_df = marks_df.drop('P_Grade_Date', axis=1)\n",
    "marks_df = marks_df.drop('F_Grade_Date', axis=1)\n",
    "marks_df = marks_df.drop('R_Grade_Date', axis=1)\n",
    "\n",
    "uploads_df = uploads_df.drop('datesubmitted', axis=1)\n",
    "uploads_df = uploads_df.drop('dategraded', axis=1)\n",
    "\n",
    "#uploads_df = uploads_df.drop('grader', axis=1) #Also a useles column\n"
   ]
  },
  {
   "cell_type": "markdown",
   "metadata": {},
   "source": [
    "### Delete missing data"
   ]
  },
  {
   "cell_type": "code",
   "execution_count": 76,
   "metadata": {},
   "outputs": [
    {
     "name": "stdout",
     "output_type": "stream",
     "text": [
      "activitat_id    0\n",
      "activitat       0\n",
      "aula_id         0\n",
      "grade           0\n",
      "dtype: int64\n",
      "\n",
      "userid       0\n",
      "aula_id      0\n",
      "P_Grade    867\n",
      "F_Grade    381\n",
      "R_Grade    838\n",
      "dtype: int64\n",
      "\n",
      "id                   0\n",
      "activitat_id         0\n",
      "userid               0\n",
      "grader               7\n",
      "grade           253347\n",
      "nevaluations         0\n",
      "dtype: int64\n"
     ]
    }
   ],
   "source": [
    "print(activities_df.isnull().sum())\n",
    "print()\n",
    "print(marks_df.isnull().sum())\n",
    "print()\n",
    "print(uploads_df.isnull().sum())\n"
   ]
  },
  {
   "cell_type": "code",
   "execution_count": 77,
   "metadata": {},
   "outputs": [],
   "source": [
    "# We delete the column recuperation\n",
    "marks_df = marks_df.drop('R_Grade', axis=1)"
   ]
  },
  {
   "cell_type": "markdown",
   "metadata": {},
   "source": [
    "### Add new variables"
   ]
  },
  {
   "cell_type": "code",
   "execution_count": 78,
   "metadata": {},
   "outputs": [],
   "source": [
    "# We create a new boolean variable to ask wheter the student has made the partial exam or not\n",
    "marks_df['made_partial'] = marks_df['P_Grade'].isnull()\n",
    "marks_df = marks_df.drop('P_Grade', axis=1) # We drop this column as it is not useful anymore"
   ]
  },
  {
   "cell_type": "markdown",
   "metadata": {},
   "source": [
    "### Filling missing values"
   ]
  },
  {
   "cell_type": "code",
   "execution_count": 80,
   "metadata": {},
   "outputs": [],
   "source": [
    "uploads_df['grader'].fillna(uploads_df['grader'].median(), inplace=True)\n",
    "\n",
    "uploads_df['grade'].fillna(0, inplace=True)"
   ]
  },
  {
   "cell_type": "markdown",
   "metadata": {},
   "source": [
    "## Data preprocessing"
   ]
  }
 ],
 "metadata": {
  "kernelspec": {
   "display_name": "base",
   "language": "python",
   "name": "python3"
  },
  "language_info": {
   "codemirror_mode": {
    "name": "ipython",
    "version": 3
   },
   "file_extension": ".py",
   "mimetype": "text/x-python",
   "name": "python",
   "nbconvert_exporter": "python",
   "pygments_lexer": "ipython3",
   "version": "3.11.4"
  }
 },
 "nbformat": 4,
 "nbformat_minor": 2
}
