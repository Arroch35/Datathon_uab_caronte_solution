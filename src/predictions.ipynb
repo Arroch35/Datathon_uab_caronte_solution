{
 "cells": [
  {
   "cell_type": "code",
   "execution_count": 232,
   "metadata": {},
   "outputs": [],
   "source": [
    "# Imports\n",
    "\n",
    "import pandas as pd\n",
    "import numpy as np\n",
    "\n",
    "import matplotlib.pyplot as plt\n",
    "\n",
    "import random\n",
    "\n",
    "from sklearn.utils import check_random_state\n"
   ]
  },
  {
   "cell_type": "code",
   "execution_count": 233,
   "metadata": {},
   "outputs": [
    {
     "data": {
      "text/plain": [
       "\"# Set random seed for NumPy\\nnp.random.seed(42)\\n# Set random seed for Python's built-in random module\\nrandom.seed(42)\\n# Set global seed for scikit-learn's check_random_state (if applicable)\\ncheck_random_state(42)\""
      ]
     },
     "execution_count": 233,
     "metadata": {},
     "output_type": "execute_result"
    }
   ],
   "source": [
    "\"\"\"# Set random seed for NumPy\n",
    "np.random.seed(42)\n",
    "# Set random seed for Python's built-in random module\n",
    "random.seed(42)\n",
    "# Set global seed for scikit-learn's check_random_state (if applicable)\n",
    "check_random_state(42)\"\"\""
   ]
  },
  {
   "cell_type": "markdown",
   "metadata": {},
   "source": [
    "# Data analisys"
   ]
  },
  {
   "cell_type": "code",
   "execution_count": 234,
   "metadata": {},
   "outputs": [],
   "source": [
    "activities_df=pd.read_csv(\"../data/activitats.csv\",  encoding=\"ISO-8859-1\")\n",
    "marks_df=pd.read_csv(\"../data/notes.csv\", sep=\";\")\n",
    "submissions_df=pd.read_csv(\"../data/trameses.csv\")\n"
   ]
  },
  {
   "cell_type": "code",
   "execution_count": 235,
   "metadata": {},
   "outputs": [
    {
     "data": {
      "text/html": [
       "<div>\n",
       "<style scoped>\n",
       "    .dataframe tbody tr th:only-of-type {\n",
       "        vertical-align: middle;\n",
       "    }\n",
       "\n",
       "    .dataframe tbody tr th {\n",
       "        vertical-align: top;\n",
       "    }\n",
       "\n",
       "    .dataframe thead th {\n",
       "        text-align: right;\n",
       "    }\n",
       "</style>\n",
       "<table border=\"1\" class=\"dataframe\">\n",
       "  <thead>\n",
       "    <tr style=\"text-align: right;\">\n",
       "      <th></th>\n",
       "      <th>activitat_id</th>\n",
       "      <th>activitat</th>\n",
       "      <th>aula_id</th>\n",
       "      <th>startdate</th>\n",
       "      <th>duedate</th>\n",
       "      <th>grade</th>\n",
       "    </tr>\n",
       "  </thead>\n",
       "  <tbody>\n",
       "    <tr>\n",
       "      <th>0</th>\n",
       "      <td>3</td>\n",
       "      <td>Problema 1.1 - Hello world!!!</td>\n",
       "      <td>87</td>\n",
       "      <td>0</td>\n",
       "      <td>0</td>\n",
       "      <td>100</td>\n",
       "    </tr>\n",
       "    <tr>\n",
       "      <th>1</th>\n",
       "      <td>4</td>\n",
       "      <td>Problema 1.2 - Hello world!!! ++</td>\n",
       "      <td>87</td>\n",
       "      <td>0</td>\n",
       "      <td>0</td>\n",
       "      <td>100</td>\n",
       "    </tr>\n",
       "    <tr>\n",
       "      <th>2</th>\n",
       "      <td>5</td>\n",
       "      <td>Problema 3a.1: Càlcul edat</td>\n",
       "      <td>87</td>\n",
       "      <td>0</td>\n",
       "      <td>0</td>\n",
       "      <td>100</td>\n",
       "    </tr>\n",
       "    <tr>\n",
       "      <th>3</th>\n",
       "      <td>6</td>\n",
       "      <td>Problema 3a.8: Conversió dòlars a euros</td>\n",
       "      <td>87</td>\n",
       "      <td>0</td>\n",
       "      <td>0</td>\n",
       "      <td>100</td>\n",
       "    </tr>\n",
       "    <tr>\n",
       "      <th>4</th>\n",
       "      <td>7</td>\n",
       "      <td>Problema 3a.11: Mitjana de notes</td>\n",
       "      <td>87</td>\n",
       "      <td>0</td>\n",
       "      <td>0</td>\n",
       "      <td>100</td>\n",
       "    </tr>\n",
       "  </tbody>\n",
       "</table>\n",
       "</div>"
      ],
      "text/plain": [
       "   activitat_id                                activitat  aula_id  startdate  \\\n",
       "0             3            Problema 1.1 - Hello world!!!       87          0   \n",
       "1             4         Problema 1.2 - Hello world!!! ++       87          0   \n",
       "2             5               Problema 3a.1: Càlcul edat       87          0   \n",
       "3             6  Problema 3a.8: Conversió dòlars a euros       87          0   \n",
       "4             7         Problema 3a.11: Mitjana de notes       87          0   \n",
       "\n",
       "   duedate  grade  \n",
       "0        0    100  \n",
       "1        0    100  \n",
       "2        0    100  \n",
       "3        0    100  \n",
       "4        0    100  "
      ]
     },
     "execution_count": 235,
     "metadata": {},
     "output_type": "execute_result"
    }
   ],
   "source": [
    "activities_df.head()"
   ]
  },
  {
   "cell_type": "code",
   "execution_count": 236,
   "metadata": {},
   "outputs": [
    {
     "name": "stdout",
     "output_type": "stream",
     "text": [
      "<class 'pandas.core.frame.DataFrame'>\n",
      "RangeIndex: 1801 entries, 0 to 1800\n",
      "Data columns (total 6 columns):\n",
      " #   Column        Non-Null Count  Dtype \n",
      "---  ------        --------------  ----- \n",
      " 0   activitat_id  1801 non-null   int64 \n",
      " 1   activitat     1801 non-null   object\n",
      " 2   aula_id       1801 non-null   int64 \n",
      " 3   startdate     1801 non-null   int64 \n",
      " 4   duedate       1801 non-null   int64 \n",
      " 5   grade         1801 non-null   int64 \n",
      "dtypes: int64(5), object(1)\n",
      "memory usage: 84.6+ KB\n"
     ]
    }
   ],
   "source": [
    "activities_df.info()"
   ]
  },
  {
   "cell_type": "code",
   "execution_count": 237,
   "metadata": {},
   "outputs": [
    {
     "data": {
      "text/html": [
       "<div>\n",
       "<style scoped>\n",
       "    .dataframe tbody tr th:only-of-type {\n",
       "        vertical-align: middle;\n",
       "    }\n",
       "\n",
       "    .dataframe tbody tr th {\n",
       "        vertical-align: top;\n",
       "    }\n",
       "\n",
       "    .dataframe thead th {\n",
       "        text-align: right;\n",
       "    }\n",
       "</style>\n",
       "<table border=\"1\" class=\"dataframe\">\n",
       "  <thead>\n",
       "    <tr style=\"text-align: right;\">\n",
       "      <th></th>\n",
       "      <th>userid</th>\n",
       "      <th>aula_id</th>\n",
       "      <th>P_Grade</th>\n",
       "      <th>P_Grade_Date</th>\n",
       "      <th>F_Grade</th>\n",
       "      <th>F_Grade_Date</th>\n",
       "      <th>R_Grade</th>\n",
       "      <th>R_Grade_Date</th>\n",
       "    </tr>\n",
       "  </thead>\n",
       "  <tbody>\n",
       "    <tr>\n",
       "      <th>0</th>\n",
       "      <td>176</td>\n",
       "      <td>92</td>\n",
       "      <td>NaN</td>\n",
       "      <td>NaN</td>\n",
       "      <td>9,25</td>\n",
       "      <td>1667829600</td>\n",
       "      <td>NaN</td>\n",
       "      <td>1675173600</td>\n",
       "    </tr>\n",
       "    <tr>\n",
       "      <th>1</th>\n",
       "      <td>179</td>\n",
       "      <td>92</td>\n",
       "      <td>NaN</td>\n",
       "      <td>NaN</td>\n",
       "      <td>7,75</td>\n",
       "      <td>1667829600</td>\n",
       "      <td>NaN</td>\n",
       "      <td>1675173600</td>\n",
       "    </tr>\n",
       "    <tr>\n",
       "      <th>2</th>\n",
       "      <td>168</td>\n",
       "      <td>92</td>\n",
       "      <td>NaN</td>\n",
       "      <td>NaN</td>\n",
       "      <td>7,75</td>\n",
       "      <td>1667829600</td>\n",
       "      <td>NaN</td>\n",
       "      <td>1675173600</td>\n",
       "    </tr>\n",
       "    <tr>\n",
       "      <th>3</th>\n",
       "      <td>401</td>\n",
       "      <td>92</td>\n",
       "      <td>NaN</td>\n",
       "      <td>NaN</td>\n",
       "      <td>3,50</td>\n",
       "      <td>1667829600</td>\n",
       "      <td>8,25</td>\n",
       "      <td>1675173600</td>\n",
       "    </tr>\n",
       "    <tr>\n",
       "      <th>4</th>\n",
       "      <td>482</td>\n",
       "      <td>92</td>\n",
       "      <td>NaN</td>\n",
       "      <td>NaN</td>\n",
       "      <td>7,00</td>\n",
       "      <td>1667829600</td>\n",
       "      <td>NaN</td>\n",
       "      <td>1675173600</td>\n",
       "    </tr>\n",
       "  </tbody>\n",
       "</table>\n",
       "</div>"
      ],
      "text/plain": [
       "   userid  aula_id P_Grade  P_Grade_Date F_Grade  F_Grade_Date R_Grade  \\\n",
       "0     176       92     NaN           NaN    9,25    1667829600     NaN   \n",
       "1     179       92     NaN           NaN    7,75    1667829600     NaN   \n",
       "2     168       92     NaN           NaN    7,75    1667829600     NaN   \n",
       "3     401       92     NaN           NaN    3,50    1667829600    8,25   \n",
       "4     482       92     NaN           NaN    7,00    1667829600     NaN   \n",
       "\n",
       "   R_Grade_Date  \n",
       "0    1675173600  \n",
       "1    1675173600  \n",
       "2    1675173600  \n",
       "3    1675173600  \n",
       "4    1675173600  "
      ]
     },
     "execution_count": 237,
     "metadata": {},
     "output_type": "execute_result"
    }
   ],
   "source": [
    "marks_df.head()"
   ]
  },
  {
   "cell_type": "code",
   "execution_count": 238,
   "metadata": {},
   "outputs": [
    {
     "data": {
      "text/html": [
       "<div>\n",
       "<style scoped>\n",
       "    .dataframe tbody tr th:only-of-type {\n",
       "        vertical-align: middle;\n",
       "    }\n",
       "\n",
       "    .dataframe tbody tr th {\n",
       "        vertical-align: top;\n",
       "    }\n",
       "\n",
       "    .dataframe thead th {\n",
       "        text-align: right;\n",
       "    }\n",
       "</style>\n",
       "<table border=\"1\" class=\"dataframe\">\n",
       "  <thead>\n",
       "    <tr style=\"text-align: right;\">\n",
       "      <th></th>\n",
       "      <th>id</th>\n",
       "      <th>activitat_id</th>\n",
       "      <th>userid</th>\n",
       "      <th>datesubmitted</th>\n",
       "      <th>grader</th>\n",
       "      <th>dategraded</th>\n",
       "      <th>grade</th>\n",
       "      <th>nevaluations</th>\n",
       "    </tr>\n",
       "  </thead>\n",
       "  <tbody>\n",
       "    <tr>\n",
       "      <th>0</th>\n",
       "      <td>6</td>\n",
       "      <td>3</td>\n",
       "      <td>31</td>\n",
       "      <td>1658829978</td>\n",
       "      <td>0.0</td>\n",
       "      <td>1.658830e+09</td>\n",
       "      <td>100.0</td>\n",
       "      <td>1</td>\n",
       "    </tr>\n",
       "    <tr>\n",
       "      <th>1</th>\n",
       "      <td>7</td>\n",
       "      <td>362</td>\n",
       "      <td>26</td>\n",
       "      <td>1658837049</td>\n",
       "      <td>0.0</td>\n",
       "      <td>1.658837e+09</td>\n",
       "      <td>100.0</td>\n",
       "      <td>0</td>\n",
       "    </tr>\n",
       "    <tr>\n",
       "      <th>2</th>\n",
       "      <td>9</td>\n",
       "      <td>362</td>\n",
       "      <td>26</td>\n",
       "      <td>1658837075</td>\n",
       "      <td>0.0</td>\n",
       "      <td>1.658837e+09</td>\n",
       "      <td>100.0</td>\n",
       "      <td>0</td>\n",
       "    </tr>\n",
       "    <tr>\n",
       "      <th>3</th>\n",
       "      <td>15</td>\n",
       "      <td>362</td>\n",
       "      <td>31</td>\n",
       "      <td>1662537577</td>\n",
       "      <td>0.0</td>\n",
       "      <td>1.662538e+09</td>\n",
       "      <td>NaN</td>\n",
       "      <td>0</td>\n",
       "    </tr>\n",
       "    <tr>\n",
       "      <th>4</th>\n",
       "      <td>16</td>\n",
       "      <td>362</td>\n",
       "      <td>31</td>\n",
       "      <td>1662537593</td>\n",
       "      <td>0.0</td>\n",
       "      <td>1.662712e+09</td>\n",
       "      <td>100.0</td>\n",
       "      <td>0</td>\n",
       "    </tr>\n",
       "  </tbody>\n",
       "</table>\n",
       "</div>"
      ],
      "text/plain": [
       "   id  activitat_id  userid  datesubmitted  grader    dategraded  grade  \\\n",
       "0   6             3      31     1658829978     0.0  1.658830e+09  100.0   \n",
       "1   7           362      26     1658837049     0.0  1.658837e+09  100.0   \n",
       "2   9           362      26     1658837075     0.0  1.658837e+09  100.0   \n",
       "3  15           362      31     1662537577     0.0  1.662538e+09    NaN   \n",
       "4  16           362      31     1662537593     0.0  1.662712e+09  100.0   \n",
       "\n",
       "   nevaluations  \n",
       "0             1  \n",
       "1             0  \n",
       "2             0  \n",
       "3             0  \n",
       "4             0  "
      ]
     },
     "execution_count": 238,
     "metadata": {},
     "output_type": "execute_result"
    }
   ],
   "source": [
    "submissions_df.head()"
   ]
  },
  {
   "cell_type": "code",
   "execution_count": 239,
   "metadata": {},
   "outputs": [
    {
     "name": "stdout",
     "output_type": "stream",
     "text": [
      "   id  activitat_id  userid  datesubmitted  grader    dategraded  grade  \\\n",
      "0   7           362      26     1658837049     0.0  1.658837e+09  100.0   \n",
      "\n",
      "   nevaluations  \n",
      "0             0  \n"
     ]
    }
   ],
   "source": [
    "from pandasql import sqldf\n",
    "print(sqldf(\"SELECT * from submissions_df WHERE id=7\"))"
   ]
  },
  {
   "cell_type": "markdown",
   "metadata": {},
   "source": [
    "## Data cleaning"
   ]
  },
  {
   "cell_type": "markdown",
   "metadata": {},
   "source": [
    "### Delete unnecesary variables"
   ]
  },
  {
   "cell_type": "code",
   "execution_count": 240,
   "metadata": {},
   "outputs": [],
   "source": [
    "# Dates are unnecessary information for our goal\n",
    "activities_df = activities_df.drop('startdate', axis=1)\n",
    "activities_df = activities_df.drop('duedate', axis=1)\n",
    "\n",
    "marks_df = marks_df.drop('P_Grade_Date', axis=1)\n",
    "marks_df = marks_df.drop('F_Grade_Date', axis=1)\n",
    "marks_df = marks_df.drop('R_Grade_Date', axis=1)\n",
    "\n",
    "submissions_df = submissions_df.drop('datesubmitted', axis=1)\n",
    "submissions_df = submissions_df.drop('dategraded', axis=1)\n",
    "\n",
    "#submissions_df = submissions_df.drop('grader', axis=1) #Also a useles column\n"
   ]
  },
  {
   "cell_type": "markdown",
   "metadata": {},
   "source": [
    "### Delete missing data"
   ]
  },
  {
   "cell_type": "code",
   "execution_count": 241,
   "metadata": {},
   "outputs": [
    {
     "name": "stdout",
     "output_type": "stream",
     "text": [
      "activitat_id    0\n",
      "activitat       0\n",
      "aula_id         0\n",
      "grade           0\n",
      "dtype: int64\n",
      "\n",
      "userid       0\n",
      "aula_id      0\n",
      "P_Grade    867\n",
      "F_Grade    381\n",
      "R_Grade    838\n",
      "dtype: int64\n",
      "\n",
      "id                   0\n",
      "activitat_id         0\n",
      "userid               0\n",
      "grader               7\n",
      "grade           253347\n",
      "nevaluations         0\n",
      "dtype: int64\n"
     ]
    }
   ],
   "source": [
    "print(activities_df.isnull().sum())\n",
    "print()\n",
    "print(marks_df.isnull().sum())\n",
    "print()\n",
    "print(submissions_df.isnull().sum())\n"
   ]
  },
  {
   "cell_type": "code",
   "execution_count": 242,
   "metadata": {},
   "outputs": [
    {
     "data": {
      "text/plain": [
       "141    262\n",
       "184    232\n",
       "126    215\n",
       "87     213\n",
       "176    176\n",
       "143    175\n",
       "114    146\n",
       "125    146\n",
       "92     145\n",
       "164     75\n",
       "165     15\n",
       "170      1\n",
       "Name: aula_id, dtype: int64"
      ]
     },
     "execution_count": 242,
     "metadata": {},
     "output_type": "execute_result"
    }
   ],
   "source": [
    "activities_df['aula_id'].value_counts()"
   ]
  },
  {
   "cell_type": "code",
   "execution_count": 243,
   "metadata": {},
   "outputs": [
    {
     "data": {
      "text/plain": [
       "92     252\n",
       "176    248\n",
       "143    238\n",
       "184    125\n",
       "141    113\n",
       "87     112\n",
       "Name: aula_id, dtype: int64"
      ]
     },
     "execution_count": 243,
     "metadata": {},
     "output_type": "execute_result"
    }
   ],
   "source": [
    "marks_df['aula_id'].value_counts()"
   ]
  },
  {
   "cell_type": "code",
   "execution_count": 244,
   "metadata": {},
   "outputs": [
    {
     "data": {
      "text/plain": [
       "408     2761\n",
       "2149    2556\n",
       "158     2485\n",
       "1653    2369\n",
       "1670    1970\n",
       "        ... \n",
       "1643       4\n",
       "2244       4\n",
       "2602       4\n",
       "2492       3\n",
       "240        2\n",
       "Name: userid, Length: 1021, dtype: int64"
      ]
     },
     "execution_count": 244,
     "metadata": {},
     "output_type": "execute_result"
    }
   ],
   "source": [
    "submissions_df['userid'].value_counts()"
   ]
  },
  {
   "cell_type": "code",
   "execution_count": 245,
   "metadata": {},
   "outputs": [],
   "source": [
    "# We delete the column recuperation\n",
    "marks_df = marks_df.drop('R_Grade', axis=1)"
   ]
  },
  {
   "cell_type": "markdown",
   "metadata": {},
   "source": [
    "### Filling missing values"
   ]
  },
  {
   "cell_type": "code",
   "execution_count": 246,
   "metadata": {},
   "outputs": [],
   "source": [
    "submissions_df['grader'].fillna(submissions_df['grader'].median(), inplace=True)\n",
    "\n",
    "submissions_df['grade'].fillna(0, inplace=True)"
   ]
  },
  {
   "cell_type": "markdown",
   "metadata": {},
   "source": [
    "### Add new variables"
   ]
  },
  {
   "cell_type": "code",
   "execution_count": 247,
   "metadata": {},
   "outputs": [],
   "source": [
    "# We create a new boolean variable to ask wheter the student has made the partial exam or not\n",
    "marks_df['made_partial'] = marks_df['P_Grade'].isnull()\n",
    "marks_df = marks_df.drop('P_Grade', axis=1) # We drop this column as it is not useful anymore"
   ]
  },
  {
   "cell_type": "markdown",
   "metadata": {},
   "source": [
    "To finish with the cleaning part, we will create a new csv, the one we will use to train the model. Here we will create new statistic variables about the exercices, to make the data abaliable for the model."
   ]
  },
  {
   "cell_type": "code",
   "execution_count": 248,
   "metadata": {},
   "outputs": [
    {
     "data": {
      "text/html": [
       "<div>\n",
       "<style scoped>\n",
       "    .dataframe tbody tr th:only-of-type {\n",
       "        vertical-align: middle;\n",
       "    }\n",
       "\n",
       "    .dataframe tbody tr th {\n",
       "        vertical-align: top;\n",
       "    }\n",
       "\n",
       "    .dataframe thead th {\n",
       "        text-align: right;\n",
       "    }\n",
       "</style>\n",
       "<table border=\"1\" class=\"dataframe\">\n",
       "  <thead>\n",
       "    <tr style=\"text-align: right;\">\n",
       "      <th></th>\n",
       "      <th>userid</th>\n",
       "      <th>grader</th>\n",
       "      <th>grade</th>\n",
       "      <th>nevaluations</th>\n",
       "      <th>aula_id</th>\n",
       "      <th>activitat_id</th>\n",
       "      <th>activitat</th>\n",
       "      <th>aula_id</th>\n",
       "      <th>grade</th>\n",
       "      <th>F_Grade</th>\n",
       "    </tr>\n",
       "  </thead>\n",
       "  <tbody>\n",
       "    <tr>\n",
       "      <th>0</th>\n",
       "      <td>227</td>\n",
       "      <td>0.0</td>\n",
       "      <td>100.0</td>\n",
       "      <td>1</td>\n",
       "      <td>87</td>\n",
       "      <td>3</td>\n",
       "      <td>Problema 1.1 - Hello world!!!</td>\n",
       "      <td>87</td>\n",
       "      <td>100</td>\n",
       "      <td>9,5</td>\n",
       "    </tr>\n",
       "    <tr>\n",
       "      <th>1</th>\n",
       "      <td>229</td>\n",
       "      <td>0.0</td>\n",
       "      <td>100.0</td>\n",
       "      <td>1</td>\n",
       "      <td>87</td>\n",
       "      <td>3</td>\n",
       "      <td>Problema 1.1 - Hello world!!!</td>\n",
       "      <td>87</td>\n",
       "      <td>100</td>\n",
       "      <td>10,5</td>\n",
       "    </tr>\n",
       "    <tr>\n",
       "      <th>2</th>\n",
       "      <td>241</td>\n",
       "      <td>0.0</td>\n",
       "      <td>100.0</td>\n",
       "      <td>1</td>\n",
       "      <td>87</td>\n",
       "      <td>3</td>\n",
       "      <td>Problema 1.1 - Hello world!!!</td>\n",
       "      <td>87</td>\n",
       "      <td>100</td>\n",
       "      <td>9,25</td>\n",
       "    </tr>\n",
       "    <tr>\n",
       "      <th>3</th>\n",
       "      <td>279</td>\n",
       "      <td>0.0</td>\n",
       "      <td>0.0</td>\n",
       "      <td>0</td>\n",
       "      <td>87</td>\n",
       "      <td>3</td>\n",
       "      <td>Problema 1.1 - Hello world!!!</td>\n",
       "      <td>87</td>\n",
       "      <td>100</td>\n",
       "      <td>7,25</td>\n",
       "    </tr>\n",
       "    <tr>\n",
       "      <th>4</th>\n",
       "      <td>279</td>\n",
       "      <td>0.0</td>\n",
       "      <td>100.0</td>\n",
       "      <td>1</td>\n",
       "      <td>87</td>\n",
       "      <td>3</td>\n",
       "      <td>Problema 1.1 - Hello world!!!</td>\n",
       "      <td>87</td>\n",
       "      <td>100</td>\n",
       "      <td>7,25</td>\n",
       "    </tr>\n",
       "  </tbody>\n",
       "</table>\n",
       "</div>"
      ],
      "text/plain": [
       "   userid  grader  grade  nevaluations  aula_id  activitat_id  \\\n",
       "0     227     0.0  100.0             1       87             3   \n",
       "1     229     0.0  100.0             1       87             3   \n",
       "2     241     0.0  100.0             1       87             3   \n",
       "3     279     0.0    0.0             0       87             3   \n",
       "4     279     0.0  100.0             1       87             3   \n",
       "\n",
       "                       activitat  aula_id  grade F_Grade  \n",
       "0  Problema 1.1 - Hello world!!!       87    100     9,5  \n",
       "1  Problema 1.1 - Hello world!!!       87    100    10,5  \n",
       "2  Problema 1.1 - Hello world!!!       87    100    9,25  \n",
       "3  Problema 1.1 - Hello world!!!       87    100    7,25  \n",
       "4  Problema 1.1 - Hello world!!!       87    100    7,25  "
      ]
     },
     "execution_count": 248,
     "metadata": {},
     "output_type": "execute_result"
    }
   ],
   "source": [
    "users_df=sqldf(\"select distinct s.userid, s.grader, s.grade, s.nevaluations, m.aula_id, a.*, m.F_Grade from activities_df as a inner join submissions_df as s on a.activitat_id=s.activitat_id inner join marks_df as m on s.userid=m.userid\")\n",
    "\n",
    "users_df.head()"
   ]
  },
  {
   "cell_type": "code",
   "execution_count": 249,
   "metadata": {},
   "outputs": [
    {
     "data": {
      "text/html": [
       "<div>\n",
       "<style scoped>\n",
       "    .dataframe tbody tr th:only-of-type {\n",
       "        vertical-align: middle;\n",
       "    }\n",
       "\n",
       "    .dataframe tbody tr th {\n",
       "        vertical-align: top;\n",
       "    }\n",
       "\n",
       "    .dataframe thead th {\n",
       "        text-align: right;\n",
       "    }\n",
       "</style>\n",
       "<table border=\"1\" class=\"dataframe\">\n",
       "  <thead>\n",
       "    <tr style=\"text-align: right;\">\n",
       "      <th></th>\n",
       "      <th>userid</th>\n",
       "      <th>grader</th>\n",
       "      <th>grade</th>\n",
       "      <th>nevaluations</th>\n",
       "      <th>aula_id</th>\n",
       "      <th>activitat_id</th>\n",
       "      <th>activitat</th>\n",
       "      <th>F_Grade</th>\n",
       "    </tr>\n",
       "  </thead>\n",
       "  <tbody>\n",
       "    <tr>\n",
       "      <th>0</th>\n",
       "      <td>227</td>\n",
       "      <td>0.0</td>\n",
       "      <td>100</td>\n",
       "      <td>1</td>\n",
       "      <td>87</td>\n",
       "      <td>3</td>\n",
       "      <td>Problema 1.1 - Hello world!!!</td>\n",
       "      <td>9,5</td>\n",
       "    </tr>\n",
       "    <tr>\n",
       "      <th>1</th>\n",
       "      <td>229</td>\n",
       "      <td>0.0</td>\n",
       "      <td>100</td>\n",
       "      <td>1</td>\n",
       "      <td>87</td>\n",
       "      <td>3</td>\n",
       "      <td>Problema 1.1 - Hello world!!!</td>\n",
       "      <td>10,5</td>\n",
       "    </tr>\n",
       "    <tr>\n",
       "      <th>2</th>\n",
       "      <td>241</td>\n",
       "      <td>0.0</td>\n",
       "      <td>100</td>\n",
       "      <td>1</td>\n",
       "      <td>87</td>\n",
       "      <td>3</td>\n",
       "      <td>Problema 1.1 - Hello world!!!</td>\n",
       "      <td>9,25</td>\n",
       "    </tr>\n",
       "    <tr>\n",
       "      <th>3</th>\n",
       "      <td>279</td>\n",
       "      <td>0.0</td>\n",
       "      <td>100</td>\n",
       "      <td>1</td>\n",
       "      <td>87</td>\n",
       "      <td>3</td>\n",
       "      <td>Problema 1.1 - Hello world!!!</td>\n",
       "      <td>7,25</td>\n",
       "    </tr>\n",
       "    <tr>\n",
       "      <th>4</th>\n",
       "      <td>292</td>\n",
       "      <td>0.0</td>\n",
       "      <td>100</td>\n",
       "      <td>1</td>\n",
       "      <td>87</td>\n",
       "      <td>3</td>\n",
       "      <td>Problema 1.1 - Hello world!!!</td>\n",
       "      <td>7</td>\n",
       "    </tr>\n",
       "  </tbody>\n",
       "</table>\n",
       "</div>"
      ],
      "text/plain": [
       "   userid  grader  grade  nevaluations  aula_id  activitat_id  \\\n",
       "0     227     0.0    100             1       87             3   \n",
       "1     229     0.0    100             1       87             3   \n",
       "2     241     0.0    100             1       87             3   \n",
       "3     279     0.0    100             1       87             3   \n",
       "4     292     0.0    100             1       87             3   \n",
       "\n",
       "                       activitat F_Grade  \n",
       "0  Problema 1.1 - Hello world!!!     9,5  \n",
       "1  Problema 1.1 - Hello world!!!    10,5  \n",
       "2  Problema 1.1 - Hello world!!!    9,25  \n",
       "3  Problema 1.1 - Hello world!!!    7,25  \n",
       "4  Problema 1.1 - Hello world!!!       7  "
      ]
     },
     "execution_count": 249,
     "metadata": {},
     "output_type": "execute_result"
    }
   ],
   "source": [
    "q1=\"select * from user_df where nevaluations=(select max(nevaluations) from user_df group by userid) group by userid, activitat_id\"\n",
    "\n",
    "# Get only the rows for user and activity where the nevaluations is max\n",
    "q2=\"SELECT t.* FROM user_df t JOIN (SELECT userid, activitat_id, MAX(nevaluations) AS max_nevaluations FROM user_df GROUP BY userid, activitat_id) AS max_vals ON t.userid = max_vals.userid AND t.activitat_id = max_vals.activitat_id AND t.nevaluations = max_vals.max_nevaluations\"\n",
    "users_df=sqldf(q2)\n",
    "users_df = users_df.dropna(subset=['F_Grade'])\n",
    "users_df.head()"
   ]
  },
  {
   "cell_type": "code",
   "execution_count": 250,
   "metadata": {},
   "outputs": [
    {
     "data": {
      "text/html": [
       "<div>\n",
       "<style scoped>\n",
       "    .dataframe tbody tr th:only-of-type {\n",
       "        vertical-align: middle;\n",
       "    }\n",
       "\n",
       "    .dataframe tbody tr th {\n",
       "        vertical-align: top;\n",
       "    }\n",
       "\n",
       "    .dataframe thead th {\n",
       "        text-align: right;\n",
       "    }\n",
       "</style>\n",
       "<table border=\"1\" class=\"dataframe\">\n",
       "  <thead>\n",
       "    <tr style=\"text-align: right;\">\n",
       "      <th></th>\n",
       "      <th>userid</th>\n",
       "      <th>grader</th>\n",
       "      <th>grade</th>\n",
       "      <th>nevaluations</th>\n",
       "      <th>aula_id</th>\n",
       "      <th>activitat_id</th>\n",
       "      <th>activitat</th>\n",
       "      <th>F_Grade</th>\n",
       "    </tr>\n",
       "  </thead>\n",
       "  <tbody>\n",
       "    <tr>\n",
       "      <th>0</th>\n",
       "      <td>408</td>\n",
       "      <td>0.0</td>\n",
       "      <td>100</td>\n",
       "      <td>1</td>\n",
       "      <td>92</td>\n",
       "      <td>362</td>\n",
       "      <td>Problema 1.1 - Hello world!!!</td>\n",
       "      <td>8,00</td>\n",
       "    </tr>\n",
       "    <tr>\n",
       "      <th>1</th>\n",
       "      <td>408</td>\n",
       "      <td>0.0</td>\n",
       "      <td>100</td>\n",
       "      <td>3</td>\n",
       "      <td>92</td>\n",
       "      <td>363</td>\n",
       "      <td>Problema 1.2 - Hello world!!! ++</td>\n",
       "      <td>8,00</td>\n",
       "    </tr>\n",
       "    <tr>\n",
       "      <th>2</th>\n",
       "      <td>408</td>\n",
       "      <td>0.0</td>\n",
       "      <td>100</td>\n",
       "      <td>4</td>\n",
       "      <td>92</td>\n",
       "      <td>366</td>\n",
       "      <td>Problema 3a.1: Càlcul edat</td>\n",
       "      <td>8,00</td>\n",
       "    </tr>\n",
       "    <tr>\n",
       "      <th>3</th>\n",
       "      <td>408</td>\n",
       "      <td>0.0</td>\n",
       "      <td>100</td>\n",
       "      <td>4</td>\n",
       "      <td>92</td>\n",
       "      <td>367</td>\n",
       "      <td>Problema 3a.8: Conversió dòlars a euros</td>\n",
       "      <td>8,00</td>\n",
       "    </tr>\n",
       "    <tr>\n",
       "      <th>4</th>\n",
       "      <td>408</td>\n",
       "      <td>0.0</td>\n",
       "      <td>100</td>\n",
       "      <td>6</td>\n",
       "      <td>92</td>\n",
       "      <td>368</td>\n",
       "      <td>Problema 3a.11: Mitjana de notes</td>\n",
       "      <td>8,00</td>\n",
       "    </tr>\n",
       "  </tbody>\n",
       "</table>\n",
       "</div>"
      ],
      "text/plain": [
       "   userid  grader  grade  nevaluations  aula_id  activitat_id  \\\n",
       "0     408     0.0    100             1       92           362   \n",
       "1     408     0.0    100             3       92           363   \n",
       "2     408     0.0    100             4       92           366   \n",
       "3     408     0.0    100             4       92           367   \n",
       "4     408     0.0    100             6       92           368   \n",
       "\n",
       "                                 activitat F_Grade  \n",
       "0            Problema 1.1 - Hello world!!!    8,00  \n",
       "1         Problema 1.2 - Hello world!!! ++    8,00  \n",
       "2               Problema 3a.1: Càlcul edat    8,00  \n",
       "3  Problema 3a.8: Conversió dòlars a euros    8,00  \n",
       "4         Problema 3a.11: Mitjana de notes    8,00  "
      ]
     },
     "execution_count": 250,
     "metadata": {},
     "output_type": "execute_result"
    }
   ],
   "source": [
    "single_user_df=sqldf(\"select distinct * from users_df where userid=408\")\n",
    "single_user_df.head()"
   ]
  },
  {
   "cell_type": "code",
   "execution_count": 251,
   "metadata": {},
   "outputs": [],
   "source": [
    "activities_df.to_csv(\"../data/activities_clean.csv\", index=False)\n",
    "marks_df.to_csv(\"../data/marks_clean.csv\", index=False)\n",
    "submissions_df.to_csv(\"../data/submissions_clean.csv\", index=False)\n",
    "\n",
    "single_user_df.to_csv(\"../data/single_user.csv\", index=False)\n",
    "users_df.to_csv(\"../data/users_clean_vApplication.csv\", index=False)"
   ]
  },
  {
   "cell_type": "markdown",
   "metadata": {},
   "source": [
    "## Create statistic variables about activities"
   ]
  },
  {
   "cell_type": "code",
   "execution_count": 252,
   "metadata": {},
   "outputs": [
    {
     "name": "stdout",
     "output_type": "stream",
     "text": [
      "     userid  grader  aula_id  min_grade  max_grade   avg_grade  \\\n",
      "0        21     0.0       92        100        100  100.000000   \n",
      "1        35     0.0       92        100        100  100.000000   \n",
      "2        57     0.0      143          1        100   54.222857   \n",
      "3        65     0.0       92        100        100  100.000000   \n",
      "4        70     0.0       92        100        100  100.000000   \n",
      "..      ...     ...      ...        ...        ...         ...   \n",
      "663    2253     0.0      143          1        100   28.722892   \n",
      "664    2271     0.0      143          1        100   20.568966   \n",
      "665    2272     0.0      141        100        100  100.000000   \n",
      "666    2273     0.0      141        100        100  100.000000   \n",
      "667    2415     0.0      176        100        100  100.000000   \n",
      "\n",
      "     min_nevaluations  max_nevaluations  avg_nevaluations  num_activities  \\\n",
      "0                   0                17          3.123596              82   \n",
      "1                   1                43          3.520661             121   \n",
      "2                   0                66          2.774286             202   \n",
      "3                   0                22          3.137500              80   \n",
      "4                   0                13          2.344538             106   \n",
      "..                ...               ...               ...             ...   \n",
      "663                 0                18          1.108434              31   \n",
      "664                 0                 3          0.155172              19   \n",
      "665                 0                20          2.385475             145   \n",
      "666                 0                 9          0.488095              47   \n",
      "667                 0                12          2.354839              59   \n",
      "\n",
      "    F_Grade  \n",
      "0      3,25  \n",
      "1      5,00  \n",
      "2      1,00  \n",
      "3      7,25  \n",
      "4      1,50  \n",
      "..      ...  \n",
      "663     1,6  \n",
      "664    3,05  \n",
      "665    8,35  \n",
      "666       5  \n",
      "667       0  \n",
      "\n",
      "[668 rows x 11 columns]\n",
      "     userid  count(activitat_id)\n",
      "0        21                  279\n",
      "1        35                  483\n",
      "2        57                 2180\n",
      "3        65                  531\n",
      "4        70                 1219\n",
      "..      ...                  ...\n",
      "986    2944                  277\n",
      "987    2982                  277\n",
      "988    2984                  130\n",
      "989    2999                  161\n",
      "990    3008                  227\n",
      "\n",
      "[991 rows x 2 columns]\n"
     ]
    }
   ],
   "source": [
    "q1=\"select distinct userid, grader, aula_id, min(grade) as min_grade, max(grade) as max_grade, avg(grade) as avg_grade, min(nevaluations) as min_nevaluations, max(nevaluations) as max_nevaluations, avg(nevaluations) as avg_nevaluations, count(distinct activitat_id) as num_activities, F_Grade from users_df group by userid order by userid\"\n",
    "q2=\"select distinct userid, count(activitat_id) from user_df group by userid\"\n",
    "users_df=sqldf(q1)\n",
    "print(users_df)\n",
    "print(sqldf(q2))"
   ]
  },
  {
   "cell_type": "code",
   "execution_count": 253,
   "metadata": {},
   "outputs": [],
   "source": [
    "users_df.to_csv(\"../data/users_clean_vModel.csv\", index=False)"
   ]
  },
  {
   "cell_type": "markdown",
   "metadata": {},
   "source": [
    "## Data preprocessing"
   ]
  },
  {
   "cell_type": "code",
   "execution_count": 254,
   "metadata": {},
   "outputs": [],
   "source": [
    "#? User info: class, marks, list of activities (dependent on the class) \n",
    "# Para que todos los usuarios tengan la misma length puedo tomar otras variables estadisticas, como por ejemplo, el numero de ejercicios completados, el numero medio, mayor y menor de intentos por ejercicio, etc...\n",
    "# Users clean lo hare por dos\n"
   ]
  }
 ],
 "metadata": {
  "kernelspec": {
   "display_name": "base",
   "language": "python",
   "name": "python3"
  },
  "language_info": {
   "codemirror_mode": {
    "name": "ipython",
    "version": 3
   },
   "file_extension": ".py",
   "mimetype": "text/x-python",
   "name": "python",
   "nbconvert_exporter": "python",
   "pygments_lexer": "ipython3",
   "version": "3.11.4"
  }
 },
 "nbformat": 4,
 "nbformat_minor": 2
}
